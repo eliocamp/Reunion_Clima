{
 "cells": [
  {
   "cell_type": "code",
   "execution_count": 38,
   "metadata": {
    "collapsed": false
   },
   "outputs": [],
   "source": [
    "#This script takes a initial date and final date and downloads the files needed to compute the wave activity flux (WAF)\n",
    "#for that given period. NCEP/NCAR Reanalysis (Kalnay etal 1996)are used \n",
    "\n",
    "#libraries needed\n",
    "import urllib.request\n",
    "from bs4 import BeautifulSoup\n",
    "import numpy as np\n",
    "\n",
    "def clean():   #clean enviroment\n",
    "    import os\n",
    "    os.system(\"rm -f /tmp/*.gz /tmp/*.nc\")\n",
    "    \n",
    "def descarga_nc( mesi, diai, mesf, diaf, aniof, variable_entrada, variable_salida, tipo):\n",
    "    #tipo controla que dato bajo: 2: para anomalia 3 para climatologia\n",
    "    # Open NCEP NCAR to access to lik to data\n",
    "\n",
    "        url = 'http://www.esrl.noaa.gov/psd/cgi-bin/data/composites/comp.day.pl?var='+variable_entrada+'&level=250mb&iy[1]=&im[1]=&id[1]=&iy[2]=&im[2]=&id[2]=&iy[3]=&im[3]=&id[3]=&iy[4]=&im[4]=&id[4]=&iy[5]=&im[5]=&id[5]=&iy[6]=&im[6]=&id[6]=&iy[7]=&im[7]=&id[7]=&iy[8]=&im[8]=&id[8]=&iy[9]=&im[9]=&id[9]=&iy[10]=&im[10]=&id[10]=&iy[11]=&im[11]=&id[11]=&iy[12]=&im[12]=&id[12]=&iy[13]=&im[13]=&id[13]=&iy[14]=&im[14]=&id[14]=&iy[15]=&im[15]=&id[15]=&iy[16]=&im[16]=&id[16]=&iy[17]=&im[17]=&id[17]=&iy[18]=&im[18]=&id[18]=&iy[19]=&im[19]=&id[19]=&iy[20]=&im[20]=&id[20]=&monr1='+str(mesi)+'&dayr1='+str(diai)+'&monr2='+str(mesf)+'&dayr2='+str(diaf)+'&iyr[1]='+str(aniof)+'&filenamein=&plotlabel=&lag=0&labelc=Color&labels=Shaded&type='+str(tipo)+'&scale=&label=0&cint=&lowr=&highr=&istate=0&proj=ALL&xlat1=&xlat2=&xlon1=&xlon2=&custproj=Cylindrical+Equidistant&level1=1000mb&level2=10mb&Submit=Create+Plot'\n",
    "        response = urllib.request.urlopen(url)\n",
    "        data = response.read()      # a `bytes` object\n",
    "\n",
    "        soup = BeautifulSoup(data,'html.parser') #como es un xml, beautifull tiene un modulo de eso\n",
    "        link = soup.findAll('img')[-1]['src']\n",
    "        #Esta es una manera en que podemos obtener el link del .nc que tiene los datos del grafico\n",
    "\n",
    "        link=list(link)\n",
    "        link[-3]='n'\n",
    "        link[-2]='c'\n",
    "        link[-1]=''\n",
    "        \n",
    "        #get nc file save as netcdf\n",
    "        ruta = \"./tmp/\"\n",
    "        urllib.request.urlretrieve('http://www.esrl.noaa.gov'+\"\".join(link), ruta+variable_salida+'.nc')\n",
    "    \n",
    "        \n",
    "\n",
    "clean()\n",
    "#initial date\n",
    "\n",
    "iniy = 2016\n",
    "inim = 7\n",
    "inid = 21\n",
    "\n",
    "#final date\n",
    "finy = 2016\n",
    "finm = 7\n",
    "find = 30\n",
    "#download: geopotential height, u and v climatology for the selected period\n",
    "#          geopotential height anomalies\n",
    "\n",
    "variables = ['Zonal+Wind','Meridional+Wind','Geopotential+Height']\n",
    "\n",
    "out_var = ['zonalw_climo','meridw_climo','hgt_climo','hgt']\n",
    "\n",
    "for i in range(0,3):\n",
    "    if i==2: # download climo and anomaly for geopotential\n",
    "        descarga_nc(inim,inid,finm,find,finy,variables[i],out_var[i],3)\n",
    "        descarga_nc(inim,inid,finm,find,finy,variables[i],out_var[i+1],2)\n",
    "    descarga_nc(inim,inid,finm,find,finy,variables[i],out_var[i],3)\n",
    "\n",
    "\n"
   ]
  },
  {
   "cell_type": "code",
   "execution_count": 2,
   "metadata": {
    "collapsed": false
   },
   "outputs": [
    {
     "name": "stdout",
     "output_type": "stream",
     "text": [
      "(36,)\n",
      "(1, 36, 144)\n",
      "(1, 36, 144)\n",
      "(1, 36, 144)\n"
     ]
    }
   ],
   "source": [
    "# manipulation of netCDF files\n",
    "from netCDF4 import Dataset\n",
    "\n",
    "def manipular_nc(archivo,variable):\n",
    "    dataset = Dataset(archivo, 'r')\n",
    "    var_out = dataset.variables[variable][:]\n",
    "    lon = dataset.variables['lon'][:]\n",
    "    lat = dataset.variables['lat'][:]\n",
    "    dataset.close()\n",
    "    return var_out, lon, lat\n",
    "\n",
    "ruta = \"./tmp/\"\n",
    "\n",
    "out_var = ['zonalw_climo','meridw_climo','hgt_climo','hgt']\n",
    "\n",
    "nc_var = ['uwnd','vwnd','hgt']\n",
    "\n",
    "[uclm,lon,lat] = manipular_nc(ruta+out_var[0]+'.nc',nc_var[0])\n",
    "\n",
    "[vclm,lon,lat] = manipular_nc(ruta+out_var[1]+'.nc',nc_var[1])\n",
    "\n",
    "[zclm,lon,lat] = manipular_nc(ruta+out_var[2]+'.nc',nc_var[2])\n",
    "\n",
    "[zaa,lon,lat] = manipular_nc(ruta+out_var[3]+'.nc',nc_var[2])  #zaa [1 nlat nlon]\n",
    "\n",
    "#restringe domain to latitudes south to 0\n",
    "index_lat = np.where(lat<0)\n",
    "zaa = zaa[0,index_lat,:]\n",
    "lat = lat[index_lat]\n",
    "uclm = uclm[0,index_lat,:]\n",
    "vclm = vclm[0,index_lat,:]\n",
    "\n",
    "#print(range(index_lat))\n",
    "print(lat.shape)\n",
    "print(zaa.shape)\n",
    "print(uclm.shape)\n",
    "print(vclm.shape)\n"
   ]
  },
  {
   "cell_type": "code",
   "execution_count": 3,
   "metadata": {
    "collapsed": false
   },
   "outputs": [],
   "source": [
    "#computation of plum fluxes. Script adapted from Kazuaki Nishii and Hisashi Nakamura\n",
    "import math\n",
    "import numpy as np\n",
    "\n",
    "def c_diff(arr, h, dim, cyclic = False):  #compute derivate of array variable respect to h associated to dim\n",
    "    #adapted from kuchaale scrip\n",
    "    ndim = arr.ndim\n",
    "    lst = [i for i in range(ndim)]\n",
    "\n",
    "    lst[dim], lst[0] = lst[0], lst[dim]\n",
    "    rank = lst \n",
    "    arr = np.transpose(arr, tuple(rank))\n",
    "\n",
    "    if ndim == 3:\n",
    "        shp = (arr.shape[0]-2,1,1)\n",
    "    elif ndim == 4:\n",
    "        shp = (arr.shape[0]-2,1,1,1)\n",
    "    \n",
    "    d_arr = np.copy(arr)\n",
    "    if not cyclic:  \n",
    "        d_arr[0,...] = (arr[1,...]-arr[0,...])/(h[1]-h[0])\n",
    "        d_arr[-1,...] = (arr[-1,...]-arr[-2,...])/(h[-1]-h[-2])\n",
    "        d_arr[1:-1,...] = (arr[2:,...]-arr[0:-2,...])/np.reshape(h[2:]-h[0:-2], shp)\n",
    "\n",
    "    elif cyclic:\n",
    "        d_arr[0,...] = (arr[1,...]-arr[-1,...])/(h[1]-h[-1])\n",
    "        d_arr[-1,...] = (arr[0,...]-arr[-2,...])/(h[0]-h[-2])\n",
    "        d_arr[1:-1,...] = (arr[2:,...]-arr[0:-2,...])/np.reshape(h[2:]-h[0:-2], shp)\n",
    "\n",
    "    d_arr = np.transpose(d_arr, tuple(rank))\n",
    "\n",
    "    return d_arr\n",
    "\n",
    "[xxx,nlats,nlons] = zaa.shape\n",
    "\n",
    "#gas constant\n",
    "Ra = 290\n",
    "\n",
    "#earth radius\n",
    "a = 6400000\n",
    "\n",
    "coslat = np.cos(lat*3.14/180)\n",
    "sinlat = np.sin(lat*3.14/180)\n",
    "\n",
    "#Coriolis parameter\n",
    "f = 2*7.24/100000*sinlat\n",
    "f0 = 2*7.24/100000*math.sin(43*3.14/180)\n",
    "\n",
    "#gravity\n",
    "g = 9.8\n",
    "\n",
    "# unit [Pa]\n",
    "lev = 20000\n",
    "\n",
    "# basic state (climatology): uclm vclm zclm\n",
    "\n",
    "# anomalies zaa\n",
    "\n",
    "# QG stream function\n",
    "psiaa = g/np.transpose(np.tile(f,(nlons,1)))*zaa\n",
    "\n",
    "# magnitude of basic state wind speed\n",
    "magU = np.sqrt(np.add(np.power(uclm,2),np.power(vclm,2)))\n",
    "\n",
    "#psi derivatives\n",
    "dpsidlon = c_diff(psiaa,lon,2)\n",
    "ddpsidlonlon = c_diff(dpsidlon,lon,2)\n",
    "\n",
    "dpsidlat = c_diff(psiaa,lat,1)\n",
    "ddpsidlatlat = c_diff(dpsidlat,lat,1)\n",
    "ddpsidlatlon = c_diff(dpsidlat,lon,2)\n",
    "\n",
    "termxu = dpsidlon*dpsidlon-psiaa*ddpsidlonlon\n",
    "\n",
    "termxv = dpsidlon*dpsidlat-ddpsidlatlon*psiaa\n",
    "\n",
    "termyv = dpsidlat*dpsidlat-psiaa*ddpsidlatlat\n",
    "\n",
    "# \"p\" is normalized by 1000hPa\n",
    "coeff1=np.transpose(np.tile(coslat,(nlons,1)))*(lev/100000)/(2*magU)\n",
    "#x-component\n",
    "\n",
    "px = coeff1/(a*a*np.transpose(np.tile(coslat,(nlons,1))))*( uclm*termxu/np.transpose(np.tile(coslat,(nlons,1))) + vclm*termxv)\n",
    "\n",
    "#y-component\n",
    "\n",
    "py = coeff1/(a*a)*( uclm/np.transpose(np.tile(coslat,(nlons,1)))*termxv + vclm*termyv)\n",
    "\n",
    "#set lon 0 360\n",
    "\n",
    "#set gxout contour\n",
    "#set cint 30\n",
    "#set black -0.1 0.1\n",
    "\n",
    "#* stream-function-like geopotential height\n",
    "#d maskout( zaa*abs(f0/f),  abs(lat)-10)\n",
    "\n",
    "#* horizontal wave-activity flux\n",
    "#set arrscl 0.5 20\n",
    "#d skip(px,6,4);maskout( py , abs(lat)-10)"
   ]
  },
  {
   "cell_type": "code",
   "execution_count": 36,
   "metadata": {
    "collapsed": false
   },
   "outputs": [
    {
     "ename": "MaskError",
     "evalue": "Mask and data not compatible: data size is 1, mask size is 4752.",
     "output_type": "error",
     "traceback": [
      "\u001b[1;31m---------------------------------------------------------------------------\u001b[0m",
      "\u001b[1;31mMaskError\u001b[0m                                 Traceback (most recent call last)",
      "\u001b[1;32m<ipython-input-36-3b1045801347>\u001b[0m in \u001b[0;36m<module>\u001b[1;34m()\u001b[0m\n\u001b[0;32m     26\u001b[0m \u001b[0mpy_mask\u001b[0m \u001b[1;33m=\u001b[0m \u001b[0mma\u001b[0m\u001b[1;33m.\u001b[0m\u001b[0mmasked_array\u001b[0m\u001b[1;33m(\u001b[0m\u001b[0mpy\u001b[0m\u001b[1;33m,\u001b[0m \u001b[0mmask\u001b[0m\u001b[1;33m=\u001b[0m\u001b[0mM\u001b[0m\u001b[1;33m)\u001b[0m\u001b[1;33m\u001b[0m\u001b[0m\n\u001b[0;32m     27\u001b[0m \u001b[1;33m\u001b[0m\u001b[0m\n\u001b[1;32m---> 28\u001b[1;33m \u001b[0mplt\u001b[0m\u001b[1;33m.\u001b[0m\u001b[0mquiver\u001b[0m\u001b[1;33m(\u001b[0m\u001b[0mlonproj\u001b[0m\u001b[1;33m[\u001b[0m\u001b[1;36m2\u001b[0m\u001b[1;33m:\u001b[0m\u001b[1;33m-\u001b[0m\u001b[1;36m1\u001b[0m\u001b[1;33m,\u001b[0m\u001b[1;33m:\u001b[0m\u001b[1;33m]\u001b[0m\u001b[1;33m,\u001b[0m\u001b[0mlatproj\u001b[0m\u001b[1;33m[\u001b[0m\u001b[1;36m2\u001b[0m\u001b[1;33m:\u001b[0m\u001b[1;33m-\u001b[0m\u001b[1;36m1\u001b[0m\u001b[1;33m,\u001b[0m\u001b[1;33m:\u001b[0m\u001b[1;33m]\u001b[0m\u001b[1;33m,\u001b[0m\u001b[0mpx_mask\u001b[0m\u001b[1;33m[\u001b[0m\u001b[1;36m0\u001b[0m\u001b[1;33m,\u001b[0m\u001b[1;36m2\u001b[0m\u001b[1;33m:\u001b[0m\u001b[1;33m-\u001b[0m\u001b[1;36m1\u001b[0m\u001b[1;33m,\u001b[0m\u001b[1;33m:\u001b[0m\u001b[1;33m]\u001b[0m\u001b[1;33m,\u001b[0m\u001b[0mpy_mask\u001b[0m\u001b[1;33m[\u001b[0m\u001b[1;36m0\u001b[0m\u001b[1;33m,\u001b[0m\u001b[1;36m2\u001b[0m\u001b[1;33m:\u001b[0m\u001b[1;33m-\u001b[0m\u001b[1;36m1\u001b[0m\u001b[1;33m,\u001b[0m\u001b[1;33m:\u001b[0m\u001b[1;33m]\u001b[0m\u001b[1;33m,\u001b[0m\u001b[1;36m0.5\u001b[0m\u001b[1;33m)\u001b[0m \u001b[1;31m#trato de evitar los puntos cerca del ec que son muy grande\u001b[0m\u001b[1;33m\u001b[0m\u001b[0m\n\u001b[0m",
      "\u001b[1;32m/home/marisol/anaconda3/lib/python3.5/site-packages/matplotlib/pyplot.py\u001b[0m in \u001b[0;36mquiver\u001b[1;34m(*args, **kw)\u001b[0m\n\u001b[0;32m   3210\u001b[0m         \u001b[0max\u001b[0m\u001b[1;33m.\u001b[0m\u001b[0mhold\u001b[0m\u001b[1;33m(\u001b[0m\u001b[0mhold\u001b[0m\u001b[1;33m)\u001b[0m\u001b[1;33m\u001b[0m\u001b[0m\n\u001b[0;32m   3211\u001b[0m     \u001b[1;32mtry\u001b[0m\u001b[1;33m:\u001b[0m\u001b[1;33m\u001b[0m\u001b[0m\n\u001b[1;32m-> 3212\u001b[1;33m         \u001b[0mret\u001b[0m \u001b[1;33m=\u001b[0m \u001b[0max\u001b[0m\u001b[1;33m.\u001b[0m\u001b[0mquiver\u001b[0m\u001b[1;33m(\u001b[0m\u001b[1;33m*\u001b[0m\u001b[0margs\u001b[0m\u001b[1;33m,\u001b[0m \u001b[1;33m**\u001b[0m\u001b[0mkw\u001b[0m\u001b[1;33m)\u001b[0m\u001b[1;33m\u001b[0m\u001b[0m\n\u001b[0m\u001b[0;32m   3213\u001b[0m     \u001b[1;32mfinally\u001b[0m\u001b[1;33m:\u001b[0m\u001b[1;33m\u001b[0m\u001b[0m\n\u001b[0;32m   3214\u001b[0m         \u001b[0max\u001b[0m\u001b[1;33m.\u001b[0m\u001b[0mhold\u001b[0m\u001b[1;33m(\u001b[0m\u001b[0mwashold\u001b[0m\u001b[1;33m)\u001b[0m\u001b[1;33m\u001b[0m\u001b[0m\n",
      "\u001b[1;32m/home/marisol/anaconda3/lib/python3.5/site-packages/matplotlib/__init__.py\u001b[0m in \u001b[0;36minner\u001b[1;34m(ax, *args, **kwargs)\u001b[0m\n\u001b[0;32m   1810\u001b[0m                     warnings.warn(msg % (label_namer, func.__name__),\n\u001b[0;32m   1811\u001b[0m                                   RuntimeWarning, stacklevel=2)\n\u001b[1;32m-> 1812\u001b[1;33m             \u001b[1;32mreturn\u001b[0m \u001b[0mfunc\u001b[0m\u001b[1;33m(\u001b[0m\u001b[0max\u001b[0m\u001b[1;33m,\u001b[0m \u001b[1;33m*\u001b[0m\u001b[0margs\u001b[0m\u001b[1;33m,\u001b[0m \u001b[1;33m**\u001b[0m\u001b[0mkwargs\u001b[0m\u001b[1;33m)\u001b[0m\u001b[1;33m\u001b[0m\u001b[0m\n\u001b[0m\u001b[0;32m   1813\u001b[0m         \u001b[0mpre_doc\u001b[0m \u001b[1;33m=\u001b[0m \u001b[0minner\u001b[0m\u001b[1;33m.\u001b[0m\u001b[0m__doc__\u001b[0m\u001b[1;33m\u001b[0m\u001b[0m\n\u001b[0;32m   1814\u001b[0m         \u001b[1;32mif\u001b[0m \u001b[0mpre_doc\u001b[0m \u001b[1;32mis\u001b[0m \u001b[1;32mNone\u001b[0m\u001b[1;33m:\u001b[0m\u001b[1;33m\u001b[0m\u001b[0m\n",
      "\u001b[1;32m/home/marisol/anaconda3/lib/python3.5/site-packages/matplotlib/axes/_axes.py\u001b[0m in \u001b[0;36mquiver\u001b[1;34m(self, *args, **kw)\u001b[0m\n\u001b[0;32m   4431\u001b[0m         \u001b[1;32mif\u001b[0m \u001b[1;32mnot\u001b[0m \u001b[0mself\u001b[0m\u001b[1;33m.\u001b[0m\u001b[0m_hold\u001b[0m\u001b[1;33m:\u001b[0m\u001b[1;33m\u001b[0m\u001b[0m\n\u001b[0;32m   4432\u001b[0m             \u001b[0mself\u001b[0m\u001b[1;33m.\u001b[0m\u001b[0mcla\u001b[0m\u001b[1;33m(\u001b[0m\u001b[1;33m)\u001b[0m\u001b[1;33m\u001b[0m\u001b[0m\n\u001b[1;32m-> 4433\u001b[1;33m         \u001b[0mq\u001b[0m \u001b[1;33m=\u001b[0m \u001b[0mmquiver\u001b[0m\u001b[1;33m.\u001b[0m\u001b[0mQuiver\u001b[0m\u001b[1;33m(\u001b[0m\u001b[0mself\u001b[0m\u001b[1;33m,\u001b[0m \u001b[1;33m*\u001b[0m\u001b[0margs\u001b[0m\u001b[1;33m,\u001b[0m \u001b[1;33m**\u001b[0m\u001b[0mkw\u001b[0m\u001b[1;33m)\u001b[0m\u001b[1;33m\u001b[0m\u001b[0m\n\u001b[0m\u001b[0;32m   4434\u001b[0m \u001b[1;33m\u001b[0m\u001b[0m\n\u001b[0;32m   4435\u001b[0m         \u001b[0mself\u001b[0m\u001b[1;33m.\u001b[0m\u001b[0madd_collection\u001b[0m\u001b[1;33m(\u001b[0m\u001b[0mq\u001b[0m\u001b[1;33m,\u001b[0m \u001b[0mautolim\u001b[0m\u001b[1;33m=\u001b[0m\u001b[1;32mTrue\u001b[0m\u001b[1;33m)\u001b[0m\u001b[1;33m\u001b[0m\u001b[0m\n",
      "\u001b[1;32m/home/marisol/anaconda3/lib/python3.5/site-packages/matplotlib/quiver.py\u001b[0m in \u001b[0;36m__init__\u001b[1;34m(self, ax, *args, **kw)\u001b[0m\n\u001b[0;32m    458\u001b[0m                                              **kw)\n\u001b[0;32m    459\u001b[0m         \u001b[0mself\u001b[0m\u001b[1;33m.\u001b[0m\u001b[0mpolykw\u001b[0m \u001b[1;33m=\u001b[0m \u001b[0mkw\u001b[0m\u001b[1;33m\u001b[0m\u001b[0m\n\u001b[1;32m--> 460\u001b[1;33m         \u001b[0mself\u001b[0m\u001b[1;33m.\u001b[0m\u001b[0mset_UVC\u001b[0m\u001b[1;33m(\u001b[0m\u001b[0mU\u001b[0m\u001b[1;33m,\u001b[0m \u001b[0mV\u001b[0m\u001b[1;33m,\u001b[0m \u001b[0mC\u001b[0m\u001b[1;33m)\u001b[0m\u001b[1;33m\u001b[0m\u001b[0m\n\u001b[0m\u001b[0;32m    461\u001b[0m         \u001b[0mself\u001b[0m\u001b[1;33m.\u001b[0m\u001b[0m_initialized\u001b[0m \u001b[1;33m=\u001b[0m \u001b[1;32mFalse\u001b[0m\u001b[1;33m\u001b[0m\u001b[0m\n\u001b[0;32m    462\u001b[0m \u001b[1;33m\u001b[0m\u001b[0m\n",
      "\u001b[1;32m/home/marisol/anaconda3/lib/python3.5/site-packages/matplotlib/quiver.py\u001b[0m in \u001b[0;36mset_UVC\u001b[1;34m(self, U, V, C)\u001b[0m\n\u001b[0;32m    543\u001b[0m                 \u001b[0mC\u001b[0m \u001b[1;33m=\u001b[0m \u001b[0mC\u001b[0m\u001b[1;33m.\u001b[0m\u001b[0mfilled\u001b[0m\u001b[1;33m(\u001b[0m\u001b[1;33m)\u001b[0m\u001b[1;33m\u001b[0m\u001b[0m\n\u001b[0;32m    544\u001b[0m             \u001b[1;32melse\u001b[0m\u001b[1;33m:\u001b[0m\u001b[1;33m\u001b[0m\u001b[0m\n\u001b[1;32m--> 545\u001b[1;33m                 \u001b[0mC\u001b[0m \u001b[1;33m=\u001b[0m \u001b[0mma\u001b[0m\u001b[1;33m.\u001b[0m\u001b[0marray\u001b[0m\u001b[1;33m(\u001b[0m\u001b[0mC\u001b[0m\u001b[1;33m,\u001b[0m \u001b[0mmask\u001b[0m\u001b[1;33m=\u001b[0m\u001b[0mmask\u001b[0m\u001b[1;33m,\u001b[0m \u001b[0mcopy\u001b[0m\u001b[1;33m=\u001b[0m\u001b[1;32mFalse\u001b[0m\u001b[1;33m)\u001b[0m\u001b[1;33m\u001b[0m\u001b[0m\n\u001b[0m\u001b[0;32m    546\u001b[0m         \u001b[0mself\u001b[0m\u001b[1;33m.\u001b[0m\u001b[0mU\u001b[0m \u001b[1;33m=\u001b[0m \u001b[0mU\u001b[0m\u001b[1;33m.\u001b[0m\u001b[0mfilled\u001b[0m\u001b[1;33m(\u001b[0m\u001b[1;36m1\u001b[0m\u001b[1;33m)\u001b[0m\u001b[1;33m\u001b[0m\u001b[0m\n\u001b[0;32m    547\u001b[0m         \u001b[0mself\u001b[0m\u001b[1;33m.\u001b[0m\u001b[0mV\u001b[0m \u001b[1;33m=\u001b[0m \u001b[0mV\u001b[0m\u001b[1;33m.\u001b[0m\u001b[0mfilled\u001b[0m\u001b[1;33m(\u001b[0m\u001b[1;36m1\u001b[0m\u001b[1;33m)\u001b[0m\u001b[1;33m\u001b[0m\u001b[0m\n",
      "\u001b[1;32m/home/marisol/anaconda3/lib/python3.5/site-packages/numpy/ma/core.py\u001b[0m in \u001b[0;36marray\u001b[1;34m(data, dtype, copy, order, mask, fill_value, keep_mask, hard_mask, shrink, subok, ndmin)\u001b[0m\n\u001b[0;32m   6144\u001b[0m                        \u001b[0msubok\u001b[0m\u001b[1;33m=\u001b[0m\u001b[0msubok\u001b[0m\u001b[1;33m,\u001b[0m \u001b[0mkeep_mask\u001b[0m\u001b[1;33m=\u001b[0m\u001b[0mkeep_mask\u001b[0m\u001b[1;33m,\u001b[0m\u001b[1;33m\u001b[0m\u001b[0m\n\u001b[0;32m   6145\u001b[0m                        \u001b[0mhard_mask\u001b[0m\u001b[1;33m=\u001b[0m\u001b[0mhard_mask\u001b[0m\u001b[1;33m,\u001b[0m \u001b[0mfill_value\u001b[0m\u001b[1;33m=\u001b[0m\u001b[0mfill_value\u001b[0m\u001b[1;33m,\u001b[0m\u001b[1;33m\u001b[0m\u001b[0m\n\u001b[1;32m-> 6146\u001b[1;33m                        ndmin=ndmin, shrink=shrink, order=order)\n\u001b[0m\u001b[0;32m   6147\u001b[0m \u001b[0marray\u001b[0m\u001b[1;33m.\u001b[0m\u001b[0m__doc__\u001b[0m \u001b[1;33m=\u001b[0m \u001b[0mmasked_array\u001b[0m\u001b[1;33m.\u001b[0m\u001b[0m__doc__\u001b[0m\u001b[1;33m\u001b[0m\u001b[0m\n\u001b[0;32m   6148\u001b[0m \u001b[1;33m\u001b[0m\u001b[0m\n",
      "\u001b[1;32m/home/marisol/anaconda3/lib/python3.5/site-packages/numpy/ma/core.py\u001b[0m in \u001b[0;36m__new__\u001b[1;34m(cls, data, mask, dtype, copy, subok, ndmin, fill_value, keep_mask, hard_mask, shrink, order, **options)\u001b[0m\n\u001b[0;32m   2799\u001b[0m                     \u001b[0mmsg\u001b[0m \u001b[1;33m=\u001b[0m \u001b[1;34m\"Mask and data not compatible: data size is %i, \"\u001b[0m \u001b[1;33m+\u001b[0m\u001b[0;31m \u001b[0m\u001b[0;31m\\\u001b[0m\u001b[1;33m\u001b[0m\u001b[0m\n\u001b[0;32m   2800\u001b[0m                           \u001b[1;34m\"mask size is %i.\"\u001b[0m\u001b[1;33m\u001b[0m\u001b[0m\n\u001b[1;32m-> 2801\u001b[1;33m                     \u001b[1;32mraise\u001b[0m \u001b[0mMaskError\u001b[0m\u001b[1;33m(\u001b[0m\u001b[0mmsg\u001b[0m \u001b[1;33m%\u001b[0m \u001b[1;33m(\u001b[0m\u001b[0mnd\u001b[0m\u001b[1;33m,\u001b[0m \u001b[0mnm\u001b[0m\u001b[1;33m)\u001b[0m\u001b[1;33m)\u001b[0m\u001b[1;33m\u001b[0m\u001b[0m\n\u001b[0m\u001b[0;32m   2802\u001b[0m                 \u001b[0mcopy\u001b[0m \u001b[1;33m=\u001b[0m \u001b[1;32mTrue\u001b[0m\u001b[1;33m\u001b[0m\u001b[0m\n\u001b[0;32m   2803\u001b[0m             \u001b[1;31m# Set the mask to the new value\u001b[0m\u001b[1;33m\u001b[0m\u001b[1;33m\u001b[0m\u001b[0m\n",
      "\u001b[1;31mMaskError\u001b[0m: Mask and data not compatible: data size is 1, mask size is 4752."
     ]
    },
    {
     "data": {
      "image/png": "[encoded data removed]",
      "text/plain": [
       "<matplotlib.figure.Figure at 0x7f06e200c470>"
      ]
     },
     "metadata": {},
     "output_type": "display_data"
    }
   ],
   "source": [
    "#plot flux along with hgt anomalies\n",
    "\n",
    "import matplotlib.pyplot as plt\n",
    "import mpl_toolkits.basemap as bm\n",
    "import numpy as np\n",
    "from numpy import ma  #para enmascarar\n",
    "%matplotlib inline\n",
    "\n",
    "mapproj = bm.Basemap(projection='cyl',\n",
    "                     llcrnrlat=-88.0, llcrnrlon=0.0,\n",
    "                     urcrnrlat=-5.0, urcrnrlon=360.0)\n",
    "mapproj.drawcoastlines()\n",
    "mapproj.drawparallels(np.array([-60, -40, -20]), labels=[1,0,0,0])\n",
    "mapproj.drawmeridians(np.array([-180, -90, 0, 90, 180]), labels=[0,0,0,1])\n",
    "\n",
    "lonall, latall = np.meshgrid(lon, lat)\n",
    "lonproj, latproj = mapproj(lonall, latall)\n",
    "plt.contour(lonproj, latproj, zaa[0,:,:])\n",
    "\n",
    "plt.quiver(lonproj[2:-1,:],latproj[2:-1,:],px_mask[0,2:-1,:],py_mask[0,2:-1,:],0.5) #trato de evitar los puntos cerca del ec que son muy grande\n"
   ]
  },
  {
   "cell_type": "code",
   "execution_count": 11,
   "metadata": {
    "collapsed": false
   },
   "outputs": [
    {
     "name": "stdout",
     "output_type": "stream",
     "text": [
      "(36, 144)\n",
      "(36, 144)\n"
     ]
    }
   ],
   "source": [
    "print(lonproj.shape)\n",
    "print(latproj.shape)"
   ]
  },
  {
   "cell_type": "code",
   "execution_count": 18,
   "metadata": {
    "collapsed": false
   },
   "outputs": [
    {
     "name": "stdout",
     "output_type": "stream",
     "text": [
      "0.117734510569\n"
     ]
    }
   ],
   "source": [
    "print(np.max(py))\n",
    "\n"
   ]
  },
  {
   "cell_type": "code",
   "execution_count": 37,
   "metadata": {
    "collapsed": false
   },
   "outputs": [
    {
     "name": "stdout",
     "output_type": "stream",
     "text": [
      "(1, 36, 144)\n",
      "(1, 36, 144)\n"
     ]
    }
   ],
   "source": [
    "print(M.shape)\n",
    "print(py.shape)"
   ]
  }
 ],
 "metadata": {
  "anaconda-cloud": {},
  "kernelspec": {
   "display_name": "Python [Root]",
   "language": "python",
   "name": "Python [Root]"
  },
  "language_info": {
   "codemirror_mode": {
    "name": "ipython",
    "version": 3
   },
   "file_extension": ".py",
   "mimetype": "text/x-python",
   "name": "python",
   "nbconvert_exporter": "python",
   "pygments_lexer": "ipython3",
   "version": "3.5.2"
  }
 },
 "nbformat": 4,
 "nbformat_minor": 0
}
