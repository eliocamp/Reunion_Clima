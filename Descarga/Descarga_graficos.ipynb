{
 "cells": [
  {
   "cell_type": "code",
   "execution_count": 5,
   "metadata": {
    "collapsed": true
   },
   "outputs": [],
   "source": [
    "# Indicar Mes y Anio en el cual se va a trabajar\n",
    "# MES 1(ENERO) 12 (DICIEMBRE)\n",
    "\n",
    "MES=8\n",
    "ANIO=2016"
   ]
  },
  {
   "cell_type": "code",
   "execution_count": 6,
   "metadata": {
    "collapsed": false
   },
   "outputs": [
    {
     "name": "stdout",
     "output_type": "stream",
     "text": [
      "4\n",
      "6\n",
      "2016\n",
      "2016\n"
     ]
    },
    {
     "data": {
      "text/plain": [
       "('../Figuras/2016/8/NCEP_zg200_Men.png',\n",
       " <http.client.HTTPMessage at 0x7fbbcad9ce48>)"
      ]
     },
     "execution_count": 6,
     "metadata": {},
     "output_type": "execute_result"
    }
   ],
   "source": [
    "# Bajar imagenes de www.esrl.noaa.gov (reanalisis NCEP) \n",
    "#Zg200 hPa\n",
    "\n",
    "#Trimestral\n",
    "# Hay que definir que meses bajar y sobre que anios (hay que tener cuidado con los meses mas chicos)\n",
    "#Enero=0 Diciembre=11\n",
    "\n",
    "if MES>=4:\n",
    "    mes_I=MES-4\n",
    "    mes_F=MES-2\n",
    "    anio_I=ANIO\n",
    "    anio_F=ANIO\n",
    "elif MES>=2:\n",
    "    mes_I=MES-4+12\n",
    "    mes_F=MES-2\n",
    "    anio_I=ANIO-1\n",
    "    anio_F=ANIO\n",
    "elif MES==1:\n",
    "    mes_I=MES-4+12\n",
    "    mes_F=MES-2+12\n",
    "    anio_I=ANIO-1\n",
    "    anio_F=ANIO-1\n",
    "    \n",
    "print(mes_I)\n",
    "print(mes_F)\n",
    "print(anio_I)\n",
    "print(anio_F)\n",
    "\n",
    "import urllib.request\n",
    "from bs4 import BeautifulSoup\n",
    "\n",
    "url = 'http://www.esrl.noaa.gov/psd/cgi-bin/data/composites/comp.pl?var=Geopotential+Height&level=200mb&mon1='+str(mes_I)+'&mon2='+str(mes_F)+'&iy=&iy=&iy=&iy=&iy=&iy=&iy=&iy=&iy=&iy=&iy=&iy=&iy=&iy=&iy=&iy=&iy=&iy=&iy=&iy=&ipos[1]='+str(anio_I)+'&ipos[2]='+str(anio_F)+'&ineg[1]=&ineg[2]=&timefile0=&tstype=0&timefile1=&value=&typeval=1&compval=1&lag=0&labelc=Color&labels=Shaded&type=2&scale=100&labelcon=1&switch=0&cint=15&lowr=-90&highr=90&proj=ALL&xlat1=0&xlat2=90&xlon1=0&xlon2=360&custproj=Cylindrical+Equidistant&level1=1000mb&level2=10mb&Submit=Create+Plot'\n",
    "response = urllib.request.urlopen(url)\n",
    "data = response.read()      # a `bytes` object\n",
    "\n",
    "soup = BeautifulSoup(data,'html.parser') #como es un xml, beautifull tiene un modulo de eso\n",
    "link = soup.findAll('img')[-1]['src']\n",
    "\n",
    "urllib.request.urlretrieve('http://www.esrl.noaa.gov'+link, \"../Figuras/\"+str(ANIO)+\"/\"+str(MES)+\"/NCEP_zg200_Est.png\")\n",
    "\n",
    "#Mensual\n",
    "\n",
    "url = 'http://www.esrl.noaa.gov/psd/cgi-bin/data/composites/comp.pl?var=Geopotential+Height&level=200mb&mon1='+str(mes_F)+'&mon2='+str(mes_F)+'&iy=&iy=&iy=&iy=&iy=&iy=&iy=&iy=&iy=&iy=&iy=&iy=&iy=&iy=&iy=&iy=&iy=&iy=&iy=&iy=&ipos[1]='+str(anio_I)+'&ipos[2]='+str(anio_F)+'&ineg[1]=&ineg[2]=&timefile0=&tstype=0&timefile1=&value=&typeval=1&compval=1&lag=0&labelc=Color&labels=Shaded&type=2&scale=100&labelcon=1&switch=0&cint=15&lowr=-90&highr=90&proj=ALL&xlat1=0&xlat2=90&xlon1=0&xlon2=360&custproj=Cylindrical+Equidistant&level1=1000mb&level2=10mb&Submit=Create+Plot'\n",
    "response = urllib.request.urlopen(url)\n",
    "data = response.read()      # a `bytes` object\n",
    "\n",
    "soup = BeautifulSoup(data,'html.parser') #como es un xml, beautifull tiene un modulo de eso\n",
    "link = soup.findAll('img')[-1]['src']\n",
    "\n",
    "urllib.request.urlretrieve('http://www.esrl.noaa.gov'+link, \"../Figuras/\"+str(ANIO)+\"/\"+str(MES)+\"/NCEP_zg200_Men.png\")"
   ]
  },
  {
   "cell_type": "code",
   "execution_count": 8,
   "metadata": {
    "collapsed": false
   },
   "outputs": [
    {
     "name": "stdout",
     "output_type": "stream",
     "text": [
      "5\n",
      "7\n",
      "2016\n",
      "2016\n"
     ]
    }
   ],
   "source": [
    "import urllib.request\n",
    "\n",
    "# Bajar imagenes de http://www.cpc.ncep.noaa.gov (CFS forecasts) \n",
    "# Pronosticos trimestrales previos\n",
    "\n",
    "if MES>=4:\n",
    "    mes_I=MES-3\n",
    "    mes_F=MES-1\n",
    "    anio_I=ANIO\n",
    "    anio_F=ANIO\n",
    "elif MES>=2:\n",
    "    mes_I=MES-3+12\n",
    "    mes_F=MES-1\n",
    "    anio_I=ANIO-1\n",
    "    anio_F=ANIO\n",
    "elif MES==1:\n",
    "    mes_I=MES-3+12\n",
    "    mes_F=MES-1+12\n",
    "    anio_I=ANIO-1\n",
    "    anio_F=ANIO-1\n",
    "    \n",
    "print(mes_I)\n",
    "print(mes_F)\n",
    "print(anio_I)\n",
    "print(anio_F)\n",
    "\n",
    "# Verificacion Pronos estacionales\n",
    "\n",
    "if mes_I>=10:\n",
    "    url='http://www.cpc.ncep.noaa.gov/products/people/wwang/cfsv2_fcst_history/'+str(anio_I)+str(mes_I)+'/imagesInd1/glbz200SeaInd1.gif'\n",
    "    urllib.request.urlretrieve(url,\"../Figuras/\"+str(ANIO)+\"/\"+str(MES)+\"/CFS_zg200_Est_VER_CI1.gif\")\n",
    "    \n",
    "    url='http://www.cpc.ncep.noaa.gov/products/people/wwang/cfsv2_fcst_history/'+str(anio_I)+str(mes_I)+'/imagesInd2/glbz200SeaInd1.gif'\n",
    "    urllib.request.urlretrieve(url,\"../Figuras/\"+str(ANIO)+\"/\"+str(MES)+\"/CFS_zg200_Est_VER_CI2.gif\")\n",
    "    \n",
    "    url='http://www.cpc.ncep.noaa.gov/products/people/wwang/cfsv2_fcst_history/'+str(anio_I)+str(mes_I)+'/imagesInd3/glbz200SeaInd1.gif'\n",
    "    urllib.request.urlretrieve(url,\"../Figuras/\"+str(ANIO)+\"/\"+str(MES)+\"/CFS_zg200_Est_VER_CI3.gif\")\n",
    "    \n",
    "elif mes_I<10:\n",
    "    url='http://www.cpc.ncep.noaa.gov/products/people/wwang/cfsv2_fcst_history/'+str(anio_I)+str(0)+str(mes_I)+'/imagesInd1/glbz200SeaInd1.gif'\n",
    "    urllib.request.urlretrieve(url,\"../Figuras/\"+str(ANIO)+\"/\"+str(MES)+\"/CFS_zg200_Est_VER_CI1.gif\")\n",
    "    \n",
    "    url='http://www.cpc.ncep.noaa.gov/products/people/wwang/cfsv2_fcst_history/'+str(anio_I)+str(0)+str(mes_I)+'/imagesInd2/glbz200SeaInd1.gif'\n",
    "    urllib.request.urlretrieve(url,\"../Figuras/\"+str(ANIO)+\"/\"+str(MES)+\"/CFS_zg200_Est_VER_CI2.gif\")\n",
    "    \n",
    "    url='http://www.cpc.ncep.noaa.gov/products/people/wwang/cfsv2_fcst_history/'+str(anio_I)+str(0)+str(mes_I)+'/imagesInd3/glbz200SeaInd1.gif'\n",
    "    urllib.request.urlretrieve(url,\"../Figuras/\"+str(ANIO)+\"/\"+str(MES)+\"/CFS_zg200_Est_VER_CI3.gif\")\n",
    " \n",
    "# Verficacion Pronos mensuales\n",
    "\n",
    "if mes_F>=10:\n",
    "    url='http://www.cpc.ncep.noaa.gov/products/people/wwang/cfsv2_fcst_history/'+str(anio_F)+str(mes_I)+'/imagesInd1/glbz200MonInd1.gif'\n",
    "    urllib.request.urlretrieve(url,\"../Figuras/\"+str(ANIO)+\"/\"+str(MES)+\"/CFS_zg200_Mon_VER_CI1.gif\")\n",
    "    \n",
    "    url='http://www.cpc.ncep.noaa.gov/products/people/wwang/cfsv2_fcst_history/'+str(anio_F)+str(mes_I)+'/imagesInd2/glbz200MonInd1.gif'\n",
    "    urllib.request.urlretrieve(url,\"../Figuras/\"+str(ANIO)+\"/\"+str(MES)+\"/CFS_zg200_Mon_VER_CI2.gif\")\n",
    "\n",
    "    url='http://www.cpc.ncep.noaa.gov/products/people/wwang/cfsv2_fcst_history/'+str(anio_F)+str(mes_I)+'/imagesInd3/glbz200MonInd1.gif'\n",
    "    urllib.request.urlretrieve(url,\"../Figuras/\"+str(ANIO)+\"/\"+str(MES)+\"/CFS_zg200_Mon_VER_CI3.gif\")\n",
    "    \n",
    "elif mes_F<10:\n",
    "    url='http://www.cpc.ncep.noaa.gov/products/people/wwang/cfsv2_fcst_history/'+str(anio_F)+str(0)+str(mes_F)+'/imagesInd1/glbz200MonInd1.gif'\n",
    "    urllib.request.urlretrieve(url,\"../Figuras/\"+str(ANIO)+\"/\"+str(MES)+\"/CFS_zg200_Mon_VER_CI1.gif\")\n",
    "    \n",
    "    url='http://www.cpc.ncep.noaa.gov/products/people/wwang/cfsv2_fcst_history/'+str(anio_F)+str(0)+str(mes_F)+'/imagesInd2/glbz200MonInd1.gif'\n",
    "    urllib.request.urlretrieve(url,\"../Figuras/\"+str(ANIO)+\"/\"+str(MES)+\"/CFS_zg200_Mon_VER_CI2.gif\")\n",
    "    \n",
    "    url='http://www.cpc.ncep.noaa.gov/products/people/wwang/cfsv2_fcst_history/'+str(anio_F)+str(0)+str(mes_F)+'/imagesInd3/glbz200MonInd1.gif'\n",
    "    urllib.request.urlretrieve(url,\"../Figuras/\"+str(ANIO)+\"/\"+str(MES)+\"/CFS_zg200_Mon_VER_CI3.gif\")\n",
    "    \n",
    "# Proximos Pronos estacionales    \n",
    "\n",
    "    url='http://origin.cpc.ncep.noaa.gov/products/people/wwang/cfsv2fcst/imagesInd1/glbz200SeaInd1.gif'\n",
    "    urllib.request.urlretrieve(url,\"../Figuras/\"+str(ANIO)+\"/\"+str(MES)+\"/CFS_zg200_Est_PRO_CI1.gif\")\n",
    "\n",
    "    url='http://origin.cpc.ncep.noaa.gov/products/people/wwang/cfsv2fcst/imagesInd2/glbz200SeaInd1.gif'\n",
    "    urllib.request.urlretrieve(url,\"../Figuras/\"+str(ANIO)+\"/\"+str(MES)+\"/CFS_zg200_Est_PRO_CI2.gif\")\n",
    "\n",
    "    url='http://origin.cpc.ncep.noaa.gov/products/people/wwang/cfsv2fcst/imagesInd3/glbz200SeaInd1.gif'\n",
    "    urllib.request.urlretrieve(url,\"../Figuras/\"+str(ANIO)+\"/\"+str(MES)+\"/CFS_zg200_Est_PRO_CI3.gif\")\n",
    "        "
   ]
  },
  {
   "cell_type": "code",
   "execution_count": null,
   "metadata": {
    "collapsed": true
   },
   "outputs": [],
   "source": []
  }
 ],
 "metadata": {
  "anaconda-cloud": {},
  "kernelspec": {
   "display_name": "Python [Root]",
   "language": "python",
   "name": "Python [Root]"
  },
  "language_info": {
   "codemirror_mode": {
    "name": "ipython",
    "version": 3
   },
   "file_extension": ".py",
   "mimetype": "text/x-python",
   "name": "python",
   "nbconvert_exporter": "python",
   "pygments_lexer": "ipython3",
   "version": "3.5.2"
  }
 },
 "nbformat": 4,
 "nbformat_minor": 0
}
