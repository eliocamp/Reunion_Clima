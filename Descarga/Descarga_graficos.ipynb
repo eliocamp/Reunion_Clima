{
 "cells": [
  {
   "cell_type": "code",
   "execution_count": 85,
   "metadata": {
    "collapsed": false
   },
   "outputs": [
    {
     "data": {
      "text/plain": [
       "('zg200.png', <http.client.HTTPMessage at 0x7f05c1417e48>)"
      ]
     },
     "execution_count": 85,
     "metadata": {},
     "output_type": "execute_result"
    }
   ],
   "source": [
    "# Bajar imagen de www.esrl.noaa.gov (reanalisis NCEP)\n",
    "\n",
    "#Enero=0 Diciembre=11\n",
    "mes_I=2\n",
    "mes_F=4\n",
    "anio_I=2016\n",
    "anio_F=2016\n",
    "\n",
    "import urllib.request\n",
    "from bs4 import BeautifulSoup\n",
    "\n",
    "url = 'http://www.esrl.noaa.gov/psd/cgi-bin/data/composites/comp.pl?var=Geopotential+Height&level=200mb&+mon1='+str(mes_I)+'1&mon2='+str(mes_F)+'&iy=&iy=&iy=&iy=&iy=&iy=&iy=&iy=&iy=&iy=&iy=&iy=&iy=&iy=&iy=&iy=&iy=&iy=&iy=&iy=&ipos[1]='+str(anio_I)+'&ipos[2]='+str(anio_F)+'&ineg[1]=&ineg[2]=&timefile0=&tstype=0&timefile1=&value=&typeval=1&compval=1&lag=0&labelc=Color&labels=Shaded&type=2&scale=100&labelcon=1&switch=0&cint=15&lowr=-90&highr=90&proj=ALL&xlat1=0&xlat2=90&xlon1=0&xlon2=360&custproj=Cylindrical+Equidistant&level1=1000mb&level2=10mb&Submit=Create+Plot'\n",
    "response = urllib.request.urlopen(url)\n",
    "data = response.read()      # a `bytes` object\n",
    "\n",
    "\n",
    "soup = BeautifulSoup(data,'html.parser') #como es un xml, beautifull tiene un modulo de eso\n",
    "link = soup.findAll('img')[-1]['src']\n",
    "\n",
    "urllib.request.urlretrieve('http://www.esrl.noaa.gov'+link, \"zg200.png\")"
   ]
  }
 ],
 "metadata": {
  "anaconda-cloud": {},
  "kernelspec": {
   "display_name": "Python [Root]",
   "language": "python",
   "name": "Python [Root]"
  },
  "language_info": {
   "codemirror_mode": {
    "name": "ipython",
    "version": 3
   },
   "file_extension": ".py",
   "mimetype": "text/x-python",
   "name": "python",
   "nbconvert_exporter": "python",
   "pygments_lexer": "ipython3",
   "version": "3.5.2"
  }
 },
 "nbformat": 4,
 "nbformat_minor": 0
}
